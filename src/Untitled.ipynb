{
 "cells": [
  {
   "cell_type": "raw",
   "id": "49b74549-4bde-4a1f-9804-3fed9a84b137",
   "metadata": {},
   "source": []
  },
  {
   "cell_type": "raw",
   "id": "60478ebc-75ce-432a-8280-a770f43b16f4",
   "metadata": {},
   "source": [
    "print version()"
   ]
  },
  {
   "cell_type": "code",
   "execution_count": null,
   "id": "e0c420d7-9443-458e-9fa7-cd0315e4ce5e",
   "metadata": {},
   "outputs": [],
   "source": []
  }
 ],
 "metadata": {
  "kernelspec": {
   "display_name": "Python 3",
   "language": "python",
   "name": "python3"
  },
  "language_info": {
   "codemirror_mode": {
    "name": "ipython",
    "version": 3
   },
   "file_extension": ".py",
   "mimetype": "text/x-python",
   "name": "python",
   "nbconvert_exporter": "python",
   "pygments_lexer": "ipython3",
   "version": "3.8.10"
  }
 },
 "nbformat": 4,
 "nbformat_minor": 5
}
